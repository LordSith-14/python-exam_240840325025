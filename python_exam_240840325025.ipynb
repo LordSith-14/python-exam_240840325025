{
 "cells": [
  {
   "cell_type": "markdown",
   "id": "d6b54f10-9383-46c0-ade5-7bef78ca695c",
   "metadata": {},
   "source": [
    "# Q1 \n",
    "Q1 : A company is developing a text segmentation tool that takes a string without spaces and checks if it can be split into meaningful words based on a given dictionary. (15 Marks)\n",
    "For example:\n",
    "If s = \"applepenapple\" and wordDict = [\"apple\", \"pen\"], the output should be True because \"applepenapple\" can be split as \"apple pen apple\".\n"
   ]
  },
  {
   "cell_type": "code",
   "execution_count": 39,
   "id": "28418b30-c5d2-46a8-9dc9-917cabd92d15",
   "metadata": {},
   "outputs": [],
   "source": [
    "\n",
    "\n",
    "def meaningFulWords(s,wd):\n",
    "   \n",
    "    for i in range(len(wd)):\n",
    "        if s[s.find(wd[i]):len(wd[i])] in s:\n",
    "            return R\n",
    "       \n",
    "       \n",
    "        \n",
    "           \n",
    "\n",
    "\n",
    "s = \"applepenapple\"\n",
    "wordDict = [\"apple\",\"pen\"]\n",
    "\n",
    "meaningFulWords(s,wordDict)"
   ]
  },
  {
   "cell_type": "markdown",
   "id": "ab6b0ad3-b682-44c4-b659-9bfd06743d6e",
   "metadata": {},
   "source": [
    "\n",
    "Q2Problem Statement:(15 Marks)\n",
    "A text analysis application requires a feature to identify the longest palindromic substring from a given string. A palindrome is a sequence of characters that reads the same forward and backward.\n",
    "Your task is to implement a function that finds the longest palindromic substring in a given string s.\n",
    "Example 1:\n",
    "Input: s = \"babad\"\n",
    "Output: \"bab\" or \"aba\"\n",
    "Example 2:\n",
    "Input: s = \"cbbd\"\n",
    "Output: \"bb\"\n"
   ]
  },
  {
   "cell_type": "code",
   "execution_count": 38,
   "id": "b6184b8a-a618-486d-8164-a5d3fb50b284",
   "metadata": {},
   "outputs": [
    {
     "data": {
      "text/plain": [
       "set()"
      ]
     },
     "execution_count": 38,
     "metadata": {},
     "output_type": "execute_result"
    }
   ],
   "source": [
    "\n",
    "\n",
    "def longest_subseq(s):\n",
    "    unique_palindrone=set()\n",
    "    for char in set(s):\n",
    "        left = s.find(char)\n",
    "        right = s.rfind(char)\n",
    "        if left!=-1 and right!=-1 and left<right:\n",
    "            for middle in s[left+1:right]:\n",
    "                if s[left+1] == s[right]:\n",
    "                    unique_palindrone.add(char+char)\n",
    "                else:\n",
    "                    unique_palindrone.add(char+middle+char)\n",
    "                    \n",
    "    return unique_palindrone\n",
    "\n",
    "\n",
    "\n",
    "\n",
    "s = \"cbbd\"\n",
    "longest_subseq(s)"
   ]
  },
  {
   "cell_type": "markdown",
   "id": "49ff659d-271c-4ca1-9614-89d6afc4aa0c",
   "metadata": {},
   "source": [
    "# Q3\n",
    "A data analysis tool needs to find common elements between two datasets. Given two integer arrays nums1 and nums2, return a list containing only the elements present in both arrays.\n",
    " Example Scenarios\n",
    "Example 1:\n",
    "Input: nums1 = [1, 2, 2, 1], nums2 = [2, 2]\n",
    "Output: [2]\n"
   ]
  },
  {
   "cell_type": "code",
   "execution_count": 5,
   "id": "eedc08bc-1927-485e-a2ac-1b4177d62f51",
   "metadata": {},
   "outputs": [
    {
     "data": {
      "text/plain": [
       "[2]"
      ]
     },
     "execution_count": 5,
     "metadata": {},
     "output_type": "execute_result"
    }
   ],
   "source": [
    "\n",
    "\n",
    "def find_common(num1,num2):\n",
    "    words=[]\n",
    "    s1 = list(set(num1))\n",
    "    s2 = list(set(num2))\n",
    "    for i in range(len(s2)):\n",
    "        if s2[i] in s1:\n",
    "            words.append(s2[i])\n",
    "        else:\n",
    "            continue \n",
    "    return words\n",
    "        \n",
    "\n",
    "\n",
    "num1 = [1,2,2,1]\n",
    "num2 = [2,2]\n",
    "\n",
    "find_common(num1,num2)"
   ]
  },
  {
   "cell_type": "code",
   "execution_count": null,
   "id": "56f52708-c82d-495d-83fd-60fff38c642f",
   "metadata": {},
   "outputs": [],
   "source": []
  }
 ],
 "metadata": {
  "kernelspec": {
   "display_name": "Python 3 (ipykernel)",
   "language": "python",
   "name": "python3"
  },
  "language_info": {
   "codemirror_mode": {
    "name": "ipython",
    "version": 3
   },
   "file_extension": ".py",
   "mimetype": "text/x-python",
   "name": "python",
   "nbconvert_exporter": "python",
   "pygments_lexer": "ipython3",
   "version": "3.12.5"
  }
 },
 "nbformat": 4,
 "nbformat_minor": 5
}
